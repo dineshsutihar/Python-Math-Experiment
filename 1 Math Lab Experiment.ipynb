{
  "nbformat": 4,
  "nbformat_minor": 0,
  "metadata": {
    "colab": {
      "provenance": [],
      "authorship_tag": "ABX9TyMrpl4cgA4Gigc3AoxwWYPk",
      "include_colab_link": true
    },
    "kernelspec": {
      "name": "python3",
      "display_name": "Python 3"
    },
    "language_info": {
      "name": "python"
    }
  },
  "cells": [
    {
      "cell_type": "markdown",
      "metadata": {
        "id": "view-in-github",
        "colab_type": "text"
      },
      "source": [
        "<a href=\"https://colab.research.google.com/github/dineshsutihar/Python-Math-Experiment/blob/main/1%20Math%20Lab%20Experiment.ipynb\" target=\"_parent\"><img src=\"https://colab.research.google.com/assets/colab-badge.svg\" alt=\"Open In Colab\"/></a>"
      ]
    },
    {
      "cell_type": "markdown",
      "source": [
        "Name : Dinesh Kumar Sutihar\n"
      ],
      "metadata": {
        "id": "1wQYpZzq6p4N"
      }
    },
    {
      "cell_type": "markdown",
      "source": [
        "USN : 22BTRCN076\n"
      ],
      "metadata": {
        "id": "5jgJJKndBubq"
      }
    },
    {
      "cell_type": "markdown",
      "source": [
        "Branch : CSE General\n"
      ],
      "metadata": {
        "id": "JE_RmGZFBwAE"
      }
    },
    {
      "cell_type": "markdown",
      "source": [
        "Section : D"
      ],
      "metadata": {
        "id": "A2FB7VIBByie"
      }
    },
    {
      "cell_type": "code",
      "execution_count": 1,
      "metadata": {
        "colab": {
          "base_uri": "https://localhost:8080/"
        },
        "id": "OVr5rOYQ6kbh",
        "outputId": "16a68b4b-4fde-452e-8ce4-93ae91a7ebf6"
      },
      "outputs": [
        {
          "output_type": "execute_result",
          "data": {
            "text/plain": [
              "{1, 2, 3}"
            ]
          },
          "metadata": {},
          "execution_count": 1
        }
      ],
      "source": [
        "#Creating a set:\n",
        "s1={1, 2, 3}\n",
        "s1"
      ]
    },
    {
      "cell_type": "code",
      "source": [
        "#To create a set when the elements are already in a list\n",
        "items = [1, 2, 3]\n",
        "s2 = set(items)\n",
        "s2\n"
      ],
      "metadata": {
        "colab": {
          "base_uri": "https://localhost:8080/"
        },
        "id": "jRGvY4_x7DVj",
        "outputId": "62935c46-732c-4889-9cee-71456a809b6c"
      },
      "execution_count": 2,
      "outputs": [
        {
          "output_type": "execute_result",
          "data": {
            "text/plain": [
              "{1, 2, 3}"
            ]
          },
          "metadata": {},
          "execution_count": 2
        }
      ]
    },
    {
      "cell_type": "code",
      "source": [
        "#FiniteSet is a collection of discrete numbers\n",
        "from sympy import FiniteSet\n",
        "numbers=[1,3,5,2,8]\n",
        "FiniteSet(*numbers)"
      ],
      "metadata": {
        "colab": {
          "base_uri": "https://localhost:8080/",
          "height": 37
        },
        "id": "dpxoFvfC8mSF",
        "outputId": "9445c060-dd35-40bc-f3f0-4d431f9a2f21"
      },
      "execution_count": 3,
      "outputs": [
        {
          "output_type": "execute_result",
          "data": {
            "text/plain": [
              "{1, 2, 3, 5, 8}"
            ],
            "text/latex": "$\\displaystyle \\left\\{1, 2, 3, 5, 8\\right\\}$"
          },
          "metadata": {},
          "execution_count": 3
        }
      ]
    },
    {
      "cell_type": "code",
      "source": [
        "#Creating an Empty Set\n",
        "from sympy import FiniteSet\n",
        "s=FiniteSet()"
      ],
      "metadata": {
        "id": "nD1zk85s9eX2"
      },
      "execution_count": 8,
      "outputs": []
    },
    {
      "cell_type": "code",
      "source": [
        "#Union and Intersection Operations over sets with Python\n",
        "from sympy import FiniteSet\n",
        "s = FiniteSet(1, 2, 3)\n",
        "t = FiniteSet(2, 4, 6)\n",
        "s.union(t) # performs union operation between the sets s and t"
      ],
      "metadata": {
        "colab": {
          "base_uri": "https://localhost:8080/",
          "height": 37
        },
        "id": "ZSssuQW_90a_",
        "outputId": "7d484ae9-c419-42c7-d1ab-3e87239ead23"
      },
      "execution_count": 7,
      "outputs": [
        {
          "output_type": "execute_result",
          "data": {
            "text/plain": [
              "{1, 2, 3, 4, 6}"
            ],
            "text/latex": "$\\displaystyle \\left\\{1, 2, 3, 4, 6\\right\\}$"
          },
          "metadata": {},
          "execution_count": 7
        }
      ]
    },
    {
      "cell_type": "code",
      "source": [
        "#Alternative Union operator\n",
        "from sympy import FiniteSet\n",
        "s = FiniteSet(1, 2, 3)\n",
        "t = FiniteSet(2, 4, 6)\n",
        "s|(t) # performs the same union operation between the sets s and t\n",
        "      # Here, | operator is called pipe operator"
      ],
      "metadata": {
        "colab": {
          "base_uri": "https://localhost:8080/",
          "height": 37
        },
        "id": "P_7XJXRI94kA",
        "outputId": "0a3ef869-0d1c-4753-df32-9348ca3714ee"
      },
      "execution_count": 6,
      "outputs": [
        {
          "output_type": "execute_result",
          "data": {
            "text/plain": [
              "{1, 2, 3, 4, 6}"
            ],
            "text/latex": "$\\displaystyle \\left\\{1, 2, 3, 4, 6\\right\\}$"
          },
          "metadata": {},
          "execution_count": 6
        }
      ]
    },
    {
      "cell_type": "code",
      "source": [
        "#Union operation for more than two sets\n",
        "from sympy import FiniteSet\n",
        "s = FiniteSet(1, 2, 3)\n",
        "t = FiniteSet(2, 4, 6)\n",
        "u = FiniteSet(3, 5, 7)\n",
        "s.union(t).union(u) # performs the union operation over three sets s, t and u\n",
        " # the command s|t|u also performs the same task as above"
      ],
      "metadata": {
        "colab": {
          "base_uri": "https://localhost:8080/",
          "height": 37
        },
        "id": "xw6beVc09_yC",
        "outputId": "c79da48f-b119-4e93-b997-a40831f2b7f7"
      },
      "execution_count": 5,
      "outputs": [
        {
          "output_type": "execute_result",
          "data": {
            "text/plain": [
              "{1, 2, 3, 4, 5, 6, 7}"
            ],
            "text/latex": "$\\displaystyle \\left\\{1, 2, 3, 4, 5, 6, 7\\right\\}$"
          },
          "metadata": {},
          "execution_count": 5
        }
      ]
    },
    {
      "cell_type": "code",
      "source": [
        "#Intersection Operation over sets with Python\n",
        "from sympy import FiniteSet\n",
        "s = FiniteSet(1, 2, 3)\n",
        "t = FiniteSet(2, 4, 6)\n",
        "s.intersect(t) # performs intersection operation between the sets s and t"
      ],
      "metadata": {
        "colab": {
          "base_uri": "https://localhost:8080/",
          "height": 37
        },
        "id": "1T1gGk4R-l8r",
        "outputId": "c633a18a-da46-4007-8395-7e0aa391283d"
      },
      "execution_count": 9,
      "outputs": [
        {
          "output_type": "execute_result",
          "data": {
            "text/plain": [
              "{2}"
            ],
            "text/latex": "$\\displaystyle \\left\\{2\\right\\}$"
          },
          "metadata": {},
          "execution_count": 9
        }
      ]
    },
    {
      "cell_type": "code",
      "source": [
        "#Alternative intersection operator \n",
        "from sympy import FiniteSet\n",
        "s = FiniteSet(1, 2, 3)\n",
        "t = FiniteSet(2, 4, 6)\n",
        "s&(t) # performs the same intersection operation between the sets s and t\n",
        " # Here, & operator is called Bitwise AND operator "
      ],
      "metadata": {
        "colab": {
          "base_uri": "https://localhost:8080/",
          "height": 37
        },
        "id": "A3ydGP7i_RB3",
        "outputId": "dc74afd8-a74d-45e2-ca68-99403e1aafbf"
      },
      "execution_count": 11,
      "outputs": [
        {
          "output_type": "execute_result",
          "data": {
            "text/plain": [
              "{2}"
            ],
            "text/latex": "$\\displaystyle \\left\\{2\\right\\}$"
          },
          "metadata": {},
          "execution_count": 11
        }
      ]
    },
    {
      "cell_type": "code",
      "source": [
        "#Intersection operation of more than two sets\n",
        "from sympy import FiniteSet\n",
        "s = FiniteSet(1, 2, 3)\n",
        "t = FiniteSet(2, 4, 6)\n",
        "u = FiniteSet(3, 5, 7)\n",
        "s.intersect(t).intersect(u) # performs the intersection operation over three sets s, t and u\n",
        "\n"
      ],
      "metadata": {
        "colab": {
          "base_uri": "https://localhost:8080/",
          "height": 37
        },
        "id": "l5guP9Gs-2PQ",
        "outputId": "d17892a5-3786-4755-c73e-77a82d3c714c"
      },
      "execution_count": 10,
      "outputs": [
        {
          "output_type": "execute_result",
          "data": {
            "text/plain": [
              "EmptySet"
            ],
            "text/latex": "$\\displaystyle \\emptyset$"
          },
          "metadata": {},
          "execution_count": 10
        }
      ]
    },
    {
      "cell_type": "code",
      "source": [
        "#Addition theorem of Probability for two events:\n",
        "from sympy import FiniteSet\n",
        "def probability (space, event):\n",
        "  return len(event)/len(space)\n",
        "s=FiniteSet(1,2,3,4,5,6)\n",
        "a=FiniteSet(2,3,5)\n",
        "b=FiniteSet(1,3,5)\n",
        "e=a&b\n",
        "Prob=probability(s,a)+probability(s,b)-probability(s,e)\n",
        "Prob"
      ],
      "metadata": {
        "colab": {
          "base_uri": "https://localhost:8080/"
        },
        "id": "Wf5IkK5a_f5X",
        "outputId": "e5fc323a-e32d-4a8f-f810-44f0413b9995"
      },
      "execution_count": 13,
      "outputs": [
        {
          "output_type": "execute_result",
          "data": {
            "text/plain": [
              "0.6666666666666667"
            ]
          },
          "metadata": {},
          "execution_count": 13
        }
      ]
    },
    {
      "cell_type": "code",
      "source": [
        "#Conditional Probabilities:\n",
        "def conditional_probability( pC, pD_C):\n",
        " return (pD_C) / (pC)\n",
        "#define probabilities\n",
        "pD= 0.36 # P(D)\n",
        "pC = 0.30 # P(C)\n",
        "pD_C= 0.0792 # P(D ∩ C)\n",
        "#use function to calculate conditional probability P(D|C)\n",
        "conditional_probability( pC, pD_C)"
      ],
      "metadata": {
        "colab": {
          "base_uri": "https://localhost:8080/"
        },
        "id": "JeBJLGVAAi3F",
        "outputId": "caf7ab6c-654b-4e4e-b5f9-b32bd0dd1bd9"
      },
      "execution_count": 15,
      "outputs": [
        {
          "output_type": "execute_result",
          "data": {
            "text/plain": [
              "0.264"
            ]
          },
          "metadata": {},
          "execution_count": 15
        }
      ]
    },
    {
      "cell_type": "code",
      "source": [
        "#Baye’s Theorem:\n",
        "def bayesTheorem(pE1, pE2, pAE1,pAE2):\n",
        " return (pE1*pAE1) / (pE1*pAE1+ pE2*pAE2)\n",
        "#define probabilities\n",
        "pE1 = 0.5\n",
        "pE2 = 0.5\n",
        "pAE1= 3/5\n",
        "pAE2=3/7\n",
        "#use function to calculate conditional probability\n",
        "bayesTheorem(pE1, pE2, pAE1,pAE2)"
      ],
      "metadata": {
        "colab": {
          "base_uri": "https://localhost:8080/"
        },
        "id": "bXP6ozeABYz3",
        "outputId": "b928a690-96e4-48b1-eb26-70345039995a"
      },
      "execution_count": 16,
      "outputs": [
        {
          "output_type": "execute_result",
          "data": {
            "text/plain": [
              "0.5833333333333334"
            ]
          },
          "metadata": {},
          "execution_count": 16
        }
      ]
    },
    {
      "cell_type": "markdown",
      "source": [
        "**Exercise Problems:**"
      ],
      "metadata": {
        "id": "iO3eziZKBoZ-"
      }
    },
    {
      "cell_type": "code",
      "source": [
        "#Python Code for Problem 1:\n",
        "#Given data\n",
        "pA=0.8\n",
        "pB=0.6\n",
        "pA_B=0.5\n",
        "conditional_probability(pB,pA_B)"
      ],
      "metadata": {
        "colab": {
          "base_uri": "https://localhost:8080/"
        },
        "id": "tfVexY9vB-H2",
        "outputId": "5e9e3848-3e64-42d7-b137-b36214a0f1cd"
      },
      "execution_count": 17,
      "outputs": [
        {
          "output_type": "execute_result",
          "data": {
            "text/plain": [
              "0.8333333333333334"
            ]
          },
          "metadata": {},
          "execution_count": 17
        }
      ]
    }
  ]
}